{
 "cells": [
  {
   "cell_type": "code",
   "execution_count": 1,
   "id": "fcab9930-85bd-4a1a-a5a9-d71911d4e9d8",
   "metadata": {},
   "outputs": [
    {
     "name": "stdout",
     "output_type": "stream",
     "text": [
      "\n",
      "0: 640x512 1 dog, 1501.5ms\n",
      "Speed: 14.2ms preprocess, 1501.5ms inference, 22.2ms postprocess per image at shape (1, 3, 640, 512)\n"
     ]
    },
    {
     "ename": "NameError",
     "evalue": "name 'i' is not defined",
     "output_type": "error",
     "traceback": [
      "\u001b[0;31m---------------------------------------------------------------------------\u001b[0m",
      "\u001b[0;31mNameError\u001b[0m                                 Traceback (most recent call last)",
      "Cell \u001b[0;32mIn[1], line 58\u001b[0m\n\u001b[1;32m     56\u001b[0m original_image \u001b[38;5;241m=\u001b[39m cv2\u001b[38;5;241m.\u001b[39mcvtColor(image, cv2\u001b[38;5;241m.\u001b[39mCOLOR_BGR2RGB)\n\u001b[1;32m     57\u001b[0m processed_image \u001b[38;5;241m=\u001b[39m draw_keypoints(image\u001b[38;5;241m.\u001b[39mcopy(), keypoints)\n\u001b[0;32m---> 58\u001b[0m cropped_connected_image \u001b[38;5;241m=\u001b[39m crop_to_keypoints(\u001b[43mdraw_keypoint_connections\u001b[49m\u001b[43m(\u001b[49m\u001b[43mimage\u001b[49m\u001b[38;5;241;43m.\u001b[39;49m\u001b[43mcopy\u001b[49m\u001b[43m(\u001b[49m\u001b[43m)\u001b[49m\u001b[43m,\u001b[49m\u001b[43m \u001b[49m\u001b[43mkeypoints\u001b[49m\u001b[43m)\u001b[49m, keypoints)\n\u001b[1;32m     60\u001b[0m \u001b[38;5;66;03m# Plot side-by-side\u001b[39;00m\n\u001b[1;32m     61\u001b[0m fig, axes \u001b[38;5;241m=\u001b[39m plt\u001b[38;5;241m.\u001b[39msubplots(\u001b[38;5;241m1\u001b[39m, \u001b[38;5;241m2\u001b[39m, figsize\u001b[38;5;241m=\u001b[39m(\u001b[38;5;241m12\u001b[39m, \u001b[38;5;241m6\u001b[39m))\n",
      "Cell \u001b[0;32mIn[1], line 20\u001b[0m, in \u001b[0;36mdraw_keypoint_connections\u001b[0;34m(image, keypoints)\u001b[0m\n\u001b[1;32m     18\u001b[0m \u001b[38;5;28;01mfor\u001b[39;00m kp_set \u001b[38;5;129;01min\u001b[39;00m keypoints:\n\u001b[1;32m     19\u001b[0m     \u001b[38;5;28;01mfor\u001b[39;00m j \u001b[38;5;129;01min\u001b[39;00m \u001b[38;5;28mrange\u001b[39m(\u001b[38;5;241m22\u001b[39m):\n\u001b[0;32m---> 20\u001b[0m         x1, y1 \u001b[38;5;241m=\u001b[39m \u001b[38;5;28mint\u001b[39m(kp_set[\u001b[43mi\u001b[49m][\u001b[38;5;241m0\u001b[39m]), \u001b[38;5;28mint\u001b[39m(kp_set[i][\u001b[38;5;241m1\u001b[39m])\n\u001b[1;32m     21\u001b[0m         x2, y2 \u001b[38;5;241m=\u001b[39m \u001b[38;5;28mint\u001b[39m(kp_set[j][\u001b[38;5;241m0\u001b[39m]), \u001b[38;5;28mint\u001b[39m(kp_set[j][\u001b[38;5;241m1\u001b[39m])\n\u001b[1;32m     22\u001b[0m         \u001b[38;5;28;01mif\u001b[39;00m (x1 \u001b[38;5;241m==\u001b[39m \u001b[38;5;241m0\u001b[39m \u001b[38;5;129;01mand\u001b[39;00m y1 \u001b[38;5;241m==\u001b[39m \u001b[38;5;241m0\u001b[39m) \u001b[38;5;129;01mor\u001b[39;00m (x2 \u001b[38;5;241m==\u001b[39m \u001b[38;5;241m0\u001b[39m \u001b[38;5;129;01mand\u001b[39;00m y2 \u001b[38;5;241m==\u001b[39m \u001b[38;5;241m0\u001b[39m):\n",
      "\u001b[0;31mNameError\u001b[0m: name 'i' is not defined"
     ]
    }
   ],
   "source": [
    "from ultralytics import YOLO\n",
    "import cv2\n",
    "import matplotlib.pyplot as plt\n",
    "import numpy as np\n",
    "\n",
    "import cv2\n",
    "\n",
    "def draw_keypoint_connections(image, keypoints):\n",
    "    for kp_set in keypoints:\n",
    "        num_keypoints = len(kp_set)\n",
    "        for i in range(num_keypoints):\n",
    "            for j in range(i + 1, num_keypoints):  # Avoid duplicate connections\n",
    "                x1, y1 = int(kp_set[i][0]), int(kp_set[i][1])\n",
    "                x2, y2 = int(kp_set[j][0]), int(kp_set[j][1])\n",
    "                \n",
    "                # Skip if either keypoint is invalid (e.g., (0, 0))\n",
    "                if (x1 == 0 and y1 == 0) or (x2 == 0 and y2 == 0):\n",
    "                    continue\n",
    "                \n",
    "                # Draw line between keypoints\n",
    "                cv2.line(image, (x1, y1), (x2, y2), (255, 0, 0), 2)\n",
    "    \n",
    "    return image\n",
    "\n",
    "\n",
    "def crop_to_keypoints(image, keypoints):\n",
    "    \"\"\"Crop the image to cover all keypoints and set the background to white.\"\"\"\n",
    "    x_coords = []\n",
    "    y_coords = []\n",
    "    for kp_set in keypoints:\n",
    "        for kp in kp_set[16:22]:\n",
    "            x, y = int(kp[0]), int(kp[1])\n",
    "            if x != 0 and y != 0:\n",
    "                x_coords.append(x)\n",
    "                y_coords.append(y)\n",
    "\n",
    "    if x_coords and y_coords:\n",
    "        x_min, x_max = min(x_coords), max(x_coords)\n",
    "        y_min, y_max = min(y_coords), max(y_coords)\n",
    "        cropped_image = image[max(y_min - 10, 0):min(y_max + 10, image.shape[0]), max(x_min - 10, 0):min(x_max + 10, image.shape[1])]\n",
    "        white_background = np.ones_like(image) * 255\n",
    "        white_background[:cropped_image.shape[0], :cropped_image.shape[1]] = cropped_image\n",
    "        return white_background\n",
    "    else:\n",
    "        return image\n",
    "\n",
    "filepath = 'uploads/test_dog.jpg'\n",
    "MODEL_WEIGHTS_PATH = \"weights/best.pt\"\n",
    "pose_model = YOLO(MODEL_WEIGHTS_PATH)\n",
    "image = cv2.imread(filepath)\n",
    "results = pose_model.predict(image, conf=0.3, iou=0.55)[0].cpu()\n",
    "keypoints = results.keypoints.xy.numpy()  # Extract keypoint coordinates\n",
    "\n",
    "# Create copies of the original image for different drawings\n",
    "original_image = cv2.cvtColor(image, cv2.COLOR_BGR2RGB)\n",
    "processed_image = draw_keypoints(image.copy(), keypoints)\n",
    "cropped_connected_image = crop_to_keypoints(draw_keypoint_connections(image.copy(), keypoints), keypoints)\n",
    "\n",
    "# Plot side-by-side\n",
    "fig, axes = plt.subplots(1, 2, figsize=(12, 6))\n",
    "\n",
    "# Left: Original image\n",
    "axes[0].imshow(original_image)\n",
    "axes[0].set_title(\"Original Image\")\n",
    "axes[0].axis('off')\n",
    "\n",
    "# Right: Image with keypoints connected and cropped\n",
    "axes[1].imshow(cv2.cvtColor(cropped_connected_image, cv2.COLOR_BGR2RGB))\n",
    "axes[1].set_title(\"Keypoints Connected (Cropped)\")\n",
    "axes[1].axis('off')\n",
    "\n",
    "plt.tight_layout()\n",
    "\n"
   ]
  },
  {
   "cell_type": "code",
   "execution_count": null,
   "id": "0832432f-8303-4d7a-b7a9-1c2cd30952f1",
   "metadata": {},
   "outputs": [],
   "source": []
  }
 ],
 "metadata": {
  "kernelspec": {
   "display_name": "Python 3 (ipykernel)",
   "language": "python",
   "name": "python3"
  },
  "language_info": {
   "codemirror_mode": {
    "name": "ipython",
    "version": 3
   },
   "file_extension": ".py",
   "mimetype": "text/x-python",
   "name": "python",
   "nbconvert_exporter": "python",
   "pygments_lexer": "ipython3",
   "version": "3.9.19"
  }
 },
 "nbformat": 4,
 "nbformat_minor": 5
}
